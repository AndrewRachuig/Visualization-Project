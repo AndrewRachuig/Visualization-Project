{
 "cells": [
  {
   "cell_type": "code",
   "execution_count": 8,
   "id": "f28c3fb9",
   "metadata": {},
   "outputs": [],
   "source": [
    "import seaborn as sns\n",
    "import matplotlib.pyplot as plt\n",
    "import pandas as pd\n",
    "\n",
    "cust_details = pd.read_excel(\"churn_data.xlsx\")\n",
    "contract = pd.read_excel(\"churn_data.xlsx\", sheet_name = 1)\n",
    "phone_service = pd.read_excel(\"churn_data.xlsx\", sheet_name = 2)\n",
    "internet_service = pd.read_excel(\"churn_data.xlsx\", sheet_name = 3)"
   ]
  },
  {
   "cell_type": "code",
   "execution_count": 11,
   "id": "13a9bdfb",
   "metadata": {},
   "outputs": [
    {
     "data": {
      "text/html": [
       "<div>\n",
       "<style scoped>\n",
       "    .dataframe tbody tr th:only-of-type {\n",
       "        vertical-align: middle;\n",
       "    }\n",
       "\n",
       "    .dataframe tbody tr th {\n",
       "        vertical-align: top;\n",
       "    }\n",
       "\n",
       "    .dataframe thead th {\n",
       "        text-align: right;\n",
       "    }\n",
       "</style>\n",
       "<table border=\"1\" class=\"dataframe\">\n",
       "  <thead>\n",
       "    <tr style=\"text-align: right;\">\n",
       "      <th></th>\n",
       "      <th>customer_id</th>\n",
       "      <th>gender</th>\n",
       "      <th>is_senior_citizen</th>\n",
       "      <th>partner</th>\n",
       "      <th>dependents</th>\n",
       "      <th>phone_service</th>\n",
       "      <th>internet_service</th>\n",
       "      <th>contract_type</th>\n",
       "      <th>payment_type</th>\n",
       "      <th>monthly_charges</th>\n",
       "      <th>total_charges</th>\n",
       "      <th>churn</th>\n",
       "      <th>tenure</th>\n",
       "    </tr>\n",
       "  </thead>\n",
       "  <tbody>\n",
       "    <tr>\n",
       "      <th>0</th>\n",
       "      <td>0002-ORFBO</td>\n",
       "      <td>Female</td>\n",
       "      <td>0.0</td>\n",
       "      <td>Yes</td>\n",
       "      <td>Yes</td>\n",
       "      <td>1.0</td>\n",
       "      <td>1.0</td>\n",
       "      <td>1.0</td>\n",
       "      <td>Mailed check</td>\n",
       "      <td>65.6</td>\n",
       "      <td>593.30</td>\n",
       "      <td>No</td>\n",
       "      <td>9.044207</td>\n",
       "    </tr>\n",
       "    <tr>\n",
       "      <th>1</th>\n",
       "      <td>0003-MKNFE</td>\n",
       "      <td>Male</td>\n",
       "      <td>0.0</td>\n",
       "      <td>No</td>\n",
       "      <td>No</td>\n",
       "      <td>2.0</td>\n",
       "      <td>1.0</td>\n",
       "      <td>0.0</td>\n",
       "      <td>Mailed check</td>\n",
       "      <td>59.9</td>\n",
       "      <td>542.40</td>\n",
       "      <td>No</td>\n",
       "      <td>9.055092</td>\n",
       "    </tr>\n",
       "    <tr>\n",
       "      <th>2</th>\n",
       "      <td>0004-TLHLJ</td>\n",
       "      <td>Male</td>\n",
       "      <td>0.0</td>\n",
       "      <td>No</td>\n",
       "      <td>No</td>\n",
       "      <td>1.0</td>\n",
       "      <td>2.0</td>\n",
       "      <td>0.0</td>\n",
       "      <td>Electronic check</td>\n",
       "      <td>73.9</td>\n",
       "      <td>280.85</td>\n",
       "      <td>Yes</td>\n",
       "      <td>3.800406</td>\n",
       "    </tr>\n",
       "    <tr>\n",
       "      <th>3</th>\n",
       "      <td>0011-IGKFF</td>\n",
       "      <td>Male</td>\n",
       "      <td>1.0</td>\n",
       "      <td>Yes</td>\n",
       "      <td>No</td>\n",
       "      <td>1.0</td>\n",
       "      <td>2.0</td>\n",
       "      <td>0.0</td>\n",
       "      <td>Electronic check</td>\n",
       "      <td>98.0</td>\n",
       "      <td>1237.85</td>\n",
       "      <td>Yes</td>\n",
       "      <td>12.631122</td>\n",
       "    </tr>\n",
       "    <tr>\n",
       "      <th>4</th>\n",
       "      <td>0013-EXCHZ</td>\n",
       "      <td>Female</td>\n",
       "      <td>1.0</td>\n",
       "      <td>Yes</td>\n",
       "      <td>No</td>\n",
       "      <td>1.0</td>\n",
       "      <td>2.0</td>\n",
       "      <td>0.0</td>\n",
       "      <td>Mailed check</td>\n",
       "      <td>83.9</td>\n",
       "      <td>267.40</td>\n",
       "      <td>Yes</td>\n",
       "      <td>3.187128</td>\n",
       "    </tr>\n",
       "  </tbody>\n",
       "</table>\n",
       "</div>"
      ],
      "text/plain": [
       "  customer_id  gender  is_senior_citizen partner dependents  phone_service  \\\n",
       "0  0002-ORFBO  Female                0.0     Yes        Yes            1.0   \n",
       "1  0003-MKNFE    Male                0.0      No         No            2.0   \n",
       "2  0004-TLHLJ    Male                0.0      No         No            1.0   \n",
       "3  0011-IGKFF    Male                1.0     Yes         No            1.0   \n",
       "4  0013-EXCHZ  Female                1.0     Yes         No            1.0   \n",
       "\n",
       "   internet_service  contract_type      payment_type  monthly_charges  \\\n",
       "0               1.0            1.0      Mailed check             65.6   \n",
       "1               1.0            0.0      Mailed check             59.9   \n",
       "2               2.0            0.0  Electronic check             73.9   \n",
       "3               2.0            0.0  Electronic check             98.0   \n",
       "4               2.0            0.0      Mailed check             83.9   \n",
       "\n",
       "   total_charges churn     tenure  \n",
       "0         593.30    No   9.044207  \n",
       "1         542.40    No   9.055092  \n",
       "2         280.85   Yes   3.800406  \n",
       "3        1237.85   Yes  12.631122  \n",
       "4         267.40   Yes   3.187128  "
      ]
     },
     "execution_count": 11,
     "metadata": {},
     "output_type": "execute_result"
    }
   ],
   "source": [
    "cust_details.head()"
   ]
  },
  {
   "cell_type": "markdown",
   "id": "d89a5a54",
   "metadata": {},
   "source": [
    "## Step 1 of Analysis: Define the goal\n",
    "\n",
    "Goal: Find out if there are any correlations in the data that might help explain/understand customer churn.\n",
    "\n",
    "### Why does this matter?\n",
    "It costs the company lots of money to lose existing customers and more to acquire new customers.\n",
    "\n",
    "#### The Target Variable:\n",
    "Churn"
   ]
  },
  {
   "cell_type": "markdown",
   "id": "28b64021",
   "metadata": {},
   "source": [
    "### Initial Hypotheses:\n",
    "- Possible disatisfaction of service for specific groups.\n",
    "- Maybe costs are becoming to high.\n",
    "- Maybe they are leaving after a while to find a newer/better/cheaper service.\n",
    "- Possible newer customers just don't stick around as much but the ones who do become loyal customers.\n",
    "- Packages of services aren't appealing to certain groups?\n",
    "\n",
    "Need to examine subgroups of all columns above; specifically focus on family type, eg. (dependents and partner or no dependents and no partner)\n"
   ]
  },
  {
   "cell_type": "markdown",
   "id": "a99c1f1f",
   "metadata": {},
   "source": [
    "### Minimum Viable Product\n",
    "\n",
    "Strong takeaway as to something in the data that might be influencing churn.  Possible extemporaneous factor that is causing the churn but is still correlated to another factor in the data.\n",
    "\n",
    "MVP here would be one or two categories or subgroups that helps give an understanding of how/why the churn might be happening."
   ]
  },
  {
   "cell_type": "code",
   "execution_count": 22,
   "id": "f76c9bf8",
   "metadata": {},
   "outputs": [
    {
     "name": "stdout",
     "output_type": "stream",
     "text": [
      "<class 'pandas.core.frame.DataFrame'>\n",
      "RangeIndex: 7049 entries, 0 to 7048\n",
      "Data columns (total 13 columns):\n",
      " #   Column             Non-Null Count  Dtype  \n",
      "---  ------             --------------  -----  \n",
      " 0   customer_id        7049 non-null   object \n",
      " 1   gender             7049 non-null   object \n",
      " 2   is_senior_citizen  7049 non-null   float64\n",
      " 3   partner            7049 non-null   object \n",
      " 4   dependents         7049 non-null   object \n",
      " 5   phone_service      7049 non-null   float64\n",
      " 6   internet_service   7049 non-null   float64\n",
      " 7   contract_type      7049 non-null   float64\n",
      " 8   payment_type       7049 non-null   object \n",
      " 9   monthly_charges    7049 non-null   float64\n",
      " 10  total_charges      7038 non-null   float64\n",
      " 11  churn              7049 non-null   object \n",
      " 12  tenure             7049 non-null   float64\n",
      "dtypes: float64(7), object(6)\n",
      "memory usage: 716.0+ KB\n"
     ]
    }
   ],
   "source": [
    "## Step 2 getting to know the data\n",
    "\n",
    "cust_details.info()"
   ]
  },
  {
   "cell_type": "code",
   "execution_count": 33,
   "id": "92e7c7d0",
   "metadata": {},
   "outputs": [
    {
     "data": {
      "text/plain": [
       "No     0.734714\n",
       "Yes    0.265286\n",
       "Name: churn, dtype: float64"
      ]
     },
     "execution_count": 33,
     "metadata": {},
     "output_type": "execute_result"
    }
   ],
   "source": [
    "cust_details.churn.value_counts() / cust_details.shape[0]\n",
    "\n",
    "# Roughly 26.5% of all customers in the dataset churned"
   ]
  },
  {
   "cell_type": "code",
   "execution_count": 41,
   "id": "d822d63c",
   "metadata": {},
   "outputs": [
    {
     "data": {
      "text/plain": [
       "317240.35"
      ]
     },
     "execution_count": 41,
     "metadata": {},
     "output_type": "execute_result"
    }
   ],
   "source": [
    "cust_details[cust_details.churn == 'No'].monthly_charges.sum()\n",
    "\n",
    "# These customers represent a loss of $317240 of revenue per month based on their monthly charges.\n",
    "# This equates to roughly $3.8 million annually. "
   ]
  },
  {
   "cell_type": "code",
   "execution_count": 78,
   "id": "cd36ddb0",
   "metadata": {},
   "outputs": [
    {
     "data": {
      "text/plain": [
       "Electronic check             1071\n",
       "Mailed check                  308\n",
       "Bank transfer (automatic)     259\n",
       "Credit card (automatic)       232\n",
       "Name: payment_type, dtype: int64"
      ]
     },
     "execution_count": 78,
     "metadata": {},
     "output_type": "execute_result"
    }
   ],
   "source": [
    "# Let's check the contract, phone, internet, and payment types to see if there's any obvious connection.\n",
    "\n",
    "# Payment types with churn\n",
    "cust_details[cust_details.churn == 'Yes'].payment_type.value_counts()\n"
   ]
  },
  {
   "cell_type": "code",
   "execution_count": 77,
   "id": "de015edc",
   "metadata": {},
   "outputs": [
    {
     "data": {
      "text/plain": [
       "Mailed check                 1304\n",
       "Electronic check             1294\n",
       "Credit card (automatic)      1292\n",
       "Bank transfer (automatic)    1289\n",
       "Name: payment_type, dtype: int64"
      ]
     },
     "execution_count": 77,
     "metadata": {},
     "output_type": "execute_result"
    }
   ],
   "source": [
    "# Payment types without churn\n",
    "cust_details[cust_details.churn == 'No'].payment_type.value_counts()"
   ]
  },
  {
   "cell_type": "code",
   "execution_count": 79,
   "id": "135ba3ca",
   "metadata": {},
   "outputs": [],
   "source": [
    "# It seems as though people who paid with an electronic check accounted for the vast majority of people who churned\n",
    "# and people who didn't churn paid were evenly distributed for payment type."
   ]
  },
  {
   "cell_type": "code",
   "execution_count": 80,
   "id": "e45205fc",
   "metadata": {},
   "outputs": [
    {
     "data": {
      "text/plain": [
       "0.0    1656\n",
       "1.0     166\n",
       "2.0      48\n",
       "Name: contract_type, dtype: int64"
      ]
     },
     "execution_count": 80,
     "metadata": {},
     "output_type": "execute_result"
    }
   ],
   "source": [
    "# Contract types with churn\n",
    "\n",
    "cust_details[cust_details.churn == 'Yes'].contract_type.value_counts()"
   ]
  },
  {
   "cell_type": "code",
   "execution_count": 81,
   "id": "6c2cf254",
   "metadata": {},
   "outputs": [
    {
     "data": {
      "text/plain": [
       "0.0    2220\n",
       "2.0    1649\n",
       "1.0    1310\n",
       "Name: contract_type, dtype: int64"
      ]
     },
     "execution_count": 81,
     "metadata": {},
     "output_type": "execute_result"
    }
   ],
   "source": [
    "# Contract types with churn\n",
    "\n",
    "cust_details[cust_details.churn == 'No'].contract_type.value_counts()"
   ]
  },
  {
   "cell_type": "code",
   "execution_count": null,
   "id": "c6afb66f",
   "metadata": {},
   "outputs": [],
   "source": [
    "# Month to month customers were by FAR the customers who churned."
   ]
  },
  {
   "cell_type": "code",
   "execution_count": 82,
   "id": "f2a80a37",
   "metadata": {},
   "outputs": [
    {
     "data": {
      "text/plain": [
       "2.0    1297\n",
       "1.0     460\n",
       "0.0     113\n",
       "Name: internet_service, dtype: int64"
      ]
     },
     "execution_count": 82,
     "metadata": {},
     "output_type": "execute_result"
    }
   ],
   "source": [
    "# Internet service types with churn\n",
    "\n",
    "cust_details[cust_details.churn == 'Yes'].internet_service.value_counts()"
   ]
  },
  {
   "cell_type": "code",
   "execution_count": 83,
   "id": "5eec83eb",
   "metadata": {},
   "outputs": [
    {
     "data": {
      "text/plain": [
       "1.0    1962\n",
       "2.0    1801\n",
       "0.0    1416\n",
       "Name: internet_service, dtype: int64"
      ]
     },
     "execution_count": 83,
     "metadata": {},
     "output_type": "execute_result"
    }
   ],
   "source": [
    "# Internet service types with churn\n",
    "\n",
    "cust_details[cust_details.churn == 'No'].internet_service.value_counts()"
   ]
  },
  {
   "cell_type": "code",
   "execution_count": 100,
   "id": "6744bf41",
   "metadata": {},
   "outputs": [
    {
     "data": {
      "text/plain": [
       "<AxesSubplot:xlabel='churn', ylabel='Count'>"
      ]
     },
     "execution_count": 100,
     "metadata": {},
     "output_type": "execute_result"
    },
    {
     "data": {
      "image/png": "[encoded data removed]",
      "text/plain": [
       "<Figure size 432x288 with 1 Axes>"
      ]
     },
     "metadata": {
      "needs_background": "light"
     },
     "output_type": "display_data"
    }
   ],
   "source": [
    "## Farm more people with Fiber optic internet service churned than others. 2 = Fiber Optic\n",
    "sns.histplot(data=cust_details, x = 'churn', hue = 'internet_service', palette = 'rocket')"
   ]
  },
  {
   "cell_type": "code",
   "execution_count": 86,
   "id": "5991fd66",
   "metadata": {},
   "outputs": [
    {
     "data": {
      "text/plain": [
       "2.0    850\n",
       "1.0    849\n",
       "0.0    171\n",
       "Name: phone_service, dtype: int64"
      ]
     },
     "execution_count": 86,
     "metadata": {},
     "output_type": "execute_result"
    }
   ],
   "source": [
    "# Phone service types with churn\n",
    "\n",
    "cust_details[cust_details.churn == 'Yes'].phone_service.value_counts()"
   ]
  },
  {
   "cell_type": "code",
   "execution_count": 87,
   "id": "2df26d05",
   "metadata": {},
   "outputs": [
    {
     "data": {
      "text/plain": [
       "1.0    2546\n",
       "2.0    2121\n",
       "0.0     512\n",
       "Name: phone_service, dtype: int64"
      ]
     },
     "execution_count": 87,
     "metadata": {},
     "output_type": "execute_result"
    }
   ],
   "source": [
    "# Phone service types with churn\n",
    "\n",
    "cust_details[cust_details.churn == 'No'].phone_service.value_counts()"
   ]
  },
  {
   "cell_type": "code",
   "execution_count": 88,
   "id": "d0e38a59",
   "metadata": {},
   "outputs": [],
   "source": [
    "# No major discrepancy in phone service types related to churn"
   ]
  },
  {
   "cell_type": "code",
   "execution_count": 93,
   "id": "87e62756",
   "metadata": {},
   "outputs": [
    {
     "data": {
      "text/plain": [
       "<AxesSubplot:xlabel='churn', ylabel='Count'>"
      ]
     },
     "execution_count": 93,
     "metadata": {},
     "output_type": "execute_result"
    },
    {
     "data": {
      "image/png": "[encoded data removed]",
      "text/plain": [
       "<Figure size 432x288 with 1 Axes>"
      ]
     },
     "metadata": {
      "needs_background": "light"
     },
     "output_type": "display_data"
    }
   ],
   "source": []
  }
 ],
 "metadata": {
  "kernelspec": {
   "display_name": "Python 3 (ipykernel)",
   "language": "python",
   "name": "python3"
  },
  "language_info": {
   "codemirror_mode": {
    "name": "ipython",
    "version": 3
   },
   "file_extension": ".py",
   "mimetype": "text/x-python",
   "name": "python",
   "nbconvert_exporter": "python",
   "pygments_lexer": "ipython3",
   "version": "3.9.7"
  }
 },
 "nbformat": 4,
 "nbformat_minor": 5
}
