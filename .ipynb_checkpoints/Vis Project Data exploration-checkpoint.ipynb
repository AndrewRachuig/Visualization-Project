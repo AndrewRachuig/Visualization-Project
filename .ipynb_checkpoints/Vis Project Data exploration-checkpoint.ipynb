{
 "cells": [
  {
   "cell_type": "code",
   "execution_count": 1,
   "id": "1938f94f",
   "metadata": {},
   "outputs": [],
   "source": [
    "import seaborn as sns\n",
    "import matplotlib.pyplot as plt\n",
    "import pandas as pd\n",
    "\n",
    "cust_details = pd.read_excel(\"churn_data.xlsx\")\n",
    "contract = pd.read_excel(\"churn_data.xlsx\", sheet_name = 1)\n",
    "phone_service = pd.read_excel(\"churn_data.xlsx\", sheet_name = 2)\n",
    "internet_service = pd.read_excel(\"churn_data.xlsx\", sheet_name = 3)"
   ]
  },
  {
   "cell_type": "code",
   "execution_count": 2,
   "id": "40e41bb1",
   "metadata": {},
   "outputs": [],
   "source": [
    "cust_details['family_status'] = cust_details['partner'].apply(lambda x: 'Single' if x == 'No' else 'Married')\n",
    "cust_details['kids'] = cust_details['dependents'].apply(lambda x: 'no kids' if x == 'No' else 'w/kids')\n",
    "cust_details['family'] = cust_details['family_status'] + ' ' + cust_details['kids']\n",
    "\n",
    "# cust"
   ]
  },
  {
   "cell_type": "code",
   "execution_count": 3,
   "id": "b454d14e",
   "metadata": {},
   "outputs": [
    {
     "data": {
      "text/html": [
       "<div>\n",
       "<style scoped>\n",
       "    .dataframe tbody tr th:only-of-type {\n",
       "        vertical-align: middle;\n",
       "    }\n",
       "\n",
       "    .dataframe tbody tr th {\n",
       "        vertical-align: top;\n",
       "    }\n",
       "\n",
       "    .dataframe thead th {\n",
       "        text-align: right;\n",
       "    }\n",
       "</style>\n",
       "<table border=\"1\" class=\"dataframe\">\n",
       "  <thead>\n",
       "    <tr style=\"text-align: right;\">\n",
       "      <th></th>\n",
       "      <th>customer_id</th>\n",
       "      <th>gender</th>\n",
       "      <th>is_senior_citizen</th>\n",
       "      <th>partner</th>\n",
       "      <th>dependents</th>\n",
       "      <th>phone_service</th>\n",
       "      <th>internet_service</th>\n",
       "      <th>contract_type</th>\n",
       "      <th>payment_type</th>\n",
       "      <th>monthly_charges</th>\n",
       "      <th>total_charges</th>\n",
       "      <th>churn</th>\n",
       "      <th>tenure</th>\n",
       "      <th>family_status</th>\n",
       "    </tr>\n",
       "  </thead>\n",
       "  <tbody>\n",
       "    <tr>\n",
       "      <th>0</th>\n",
       "      <td>0002-ORFBO</td>\n",
       "      <td>Female</td>\n",
       "      <td>0.0</td>\n",
       "      <td>Yes</td>\n",
       "      <td>Yes</td>\n",
       "      <td>1.0</td>\n",
       "      <td>1.0</td>\n",
       "      <td>1.0</td>\n",
       "      <td>Mailed check</td>\n",
       "      <td>65.6</td>\n",
       "      <td>593.30</td>\n",
       "      <td>No</td>\n",
       "      <td>9.044207</td>\n",
       "      <td>Married w/kids</td>\n",
       "    </tr>\n",
       "    <tr>\n",
       "      <th>1</th>\n",
       "      <td>0003-MKNFE</td>\n",
       "      <td>Male</td>\n",
       "      <td>0.0</td>\n",
       "      <td>No</td>\n",
       "      <td>No</td>\n",
       "      <td>2.0</td>\n",
       "      <td>1.0</td>\n",
       "      <td>0.0</td>\n",
       "      <td>Mailed check</td>\n",
       "      <td>59.9</td>\n",
       "      <td>542.40</td>\n",
       "      <td>No</td>\n",
       "      <td>9.055092</td>\n",
       "      <td>Single no kids</td>\n",
       "    </tr>\n",
       "    <tr>\n",
       "      <th>2</th>\n",
       "      <td>0004-TLHLJ</td>\n",
       "      <td>Male</td>\n",
       "      <td>0.0</td>\n",
       "      <td>No</td>\n",
       "      <td>No</td>\n",
       "      <td>1.0</td>\n",
       "      <td>2.0</td>\n",
       "      <td>0.0</td>\n",
       "      <td>Electronic check</td>\n",
       "      <td>73.9</td>\n",
       "      <td>280.85</td>\n",
       "      <td>Yes</td>\n",
       "      <td>3.800406</td>\n",
       "      <td>Single no kids</td>\n",
       "    </tr>\n",
       "    <tr>\n",
       "      <th>3</th>\n",
       "      <td>0011-IGKFF</td>\n",
       "      <td>Male</td>\n",
       "      <td>1.0</td>\n",
       "      <td>Yes</td>\n",
       "      <td>No</td>\n",
       "      <td>1.0</td>\n",
       "      <td>2.0</td>\n",
       "      <td>0.0</td>\n",
       "      <td>Electronic check</td>\n",
       "      <td>98.0</td>\n",
       "      <td>1237.85</td>\n",
       "      <td>Yes</td>\n",
       "      <td>12.631122</td>\n",
       "      <td>Married no kids</td>\n",
       "    </tr>\n",
       "    <tr>\n",
       "      <th>4</th>\n",
       "      <td>0013-EXCHZ</td>\n",
       "      <td>Female</td>\n",
       "      <td>1.0</td>\n",
       "      <td>Yes</td>\n",
       "      <td>No</td>\n",
       "      <td>1.0</td>\n",
       "      <td>2.0</td>\n",
       "      <td>0.0</td>\n",
       "      <td>Mailed check</td>\n",
       "      <td>83.9</td>\n",
       "      <td>267.40</td>\n",
       "      <td>Yes</td>\n",
       "      <td>3.187128</td>\n",
       "      <td>Married no kids</td>\n",
       "    </tr>\n",
       "  </tbody>\n",
       "</table>\n",
       "</div>"
      ],
      "text/plain": [
       "  customer_id  gender  is_senior_citizen partner dependents  phone_service  \\\n",
       "0  0002-ORFBO  Female                0.0     Yes        Yes            1.0   \n",
       "1  0003-MKNFE    Male                0.0      No         No            2.0   \n",
       "2  0004-TLHLJ    Male                0.0      No         No            1.0   \n",
       "3  0011-IGKFF    Male                1.0     Yes         No            1.0   \n",
       "4  0013-EXCHZ  Female                1.0     Yes         No            1.0   \n",
       "\n",
       "   internet_service  contract_type      payment_type  monthly_charges  \\\n",
       "0               1.0            1.0      Mailed check             65.6   \n",
       "1               1.0            0.0      Mailed check             59.9   \n",
       "2               2.0            0.0  Electronic check             73.9   \n",
       "3               2.0            0.0  Electronic check             98.0   \n",
       "4               2.0            0.0      Mailed check             83.9   \n",
       "\n",
       "   total_charges churn     tenure    family_status  \n",
       "0         593.30    No   9.044207   Married w/kids  \n",
       "1         542.40    No   9.055092   Single no kids  \n",
       "2         280.85   Yes   3.800406   Single no kids  \n",
       "3        1237.85   Yes  12.631122  Married no kids  \n",
       "4         267.40   Yes   3.187128  Married no kids  "
      ]
     },
     "execution_count": 3,
     "metadata": {},
     "output_type": "execute_result"
    }
   ],
   "source": [
    "cust_details.drop('family_status', axis=1, inplace = True)\n",
    "cust_details.drop('kids', axis=1, inplace = True)\n",
    "cust_details.columns = cust_details.columns.str.replace('family', 'family_status')\n",
    "cust_details.head()"
   ]
  },
  {
   "cell_type": "code",
   "execution_count": 107,
   "id": "0126261c",
   "metadata": {},
   "outputs": [
    {
     "data": {
      "text/plain": [
       "1.0    683\n",
       "Name: internet_service, dtype: int64"
      ]
     },
     "execution_count": 107,
     "metadata": {},
     "output_type": "execute_result"
    }
   ],
   "source": [
    "cust_details[cust_details.phone_service == 0].internet_service.value_counts()"
   ]
  },
  {
   "cell_type": "markdown",
   "id": "a7aeb3a4",
   "metadata": {},
   "source": [
    "## Step 1 of Analysis: Define the goal\n",
    "\n",
    "Goal: Find out if there are any correlations in the data that might help explain/understand customer churn.\n",
    "\n",
    "### Why does this matter?\n",
    "It costs the company lots of money to lose existing customers and more to acquire new customers.\n",
    "\n",
    "#### The Target Variable:\n",
    "Churn"
   ]
  },
  {
   "cell_type": "markdown",
   "id": "e22458cb",
   "metadata": {},
   "source": [
    "### Initial Hypotheses:\n",
    "- Possible disatisfaction of service for specific groups.\n",
    "- Maybe costs are becoming too high.\n",
    "- Maybe they are leaving after a while to find a newer/better/cheaper service.\n",
    "- Possible newer customers just don't stick around as much but the ones who do become loyal customers.\n",
    "- Packages of services aren't appealing to certain groups?\n",
    "\n",
    "Need to examine subgroups of all columns above; specifically focus on family type, eg. (dependents and partner or no dependents and no partner)\n"
   ]
  },
  {
   "cell_type": "markdown",
   "id": "2964d6aa",
   "metadata": {},
   "source": [
    "### Minimum Viable Product\n",
    "\n",
    "Strong takeaway as to something in the data that might be influencing churn.  Possible extemporaneous factor that is causing the churn but is still correlated to another factor in the data.\n",
    "\n",
    "MVP here would be one or two categories or subgroups that helps give an understanding of how/why the churn might be happening."
   ]
  },
  {
   "cell_type": "code",
   "execution_count": 4,
   "id": "f9da8290",
   "metadata": {},
   "outputs": [
    {
     "name": "stdout",
     "output_type": "stream",
     "text": [
      "<class 'pandas.core.frame.DataFrame'>\n",
      "RangeIndex: 7049 entries, 0 to 7048\n",
      "Data columns (total 14 columns):\n",
      " #   Column             Non-Null Count  Dtype  \n",
      "---  ------             --------------  -----  \n",
      " 0   customer_id        7049 non-null   object \n",
      " 1   gender             7049 non-null   object \n",
      " 2   is_senior_citizen  7049 non-null   float64\n",
      " 3   partner            7049 non-null   object \n",
      " 4   dependents         7049 non-null   object \n",
      " 5   phone_service      7049 non-null   float64\n",
      " 6   internet_service   7049 non-null   float64\n",
      " 7   contract_type      7049 non-null   float64\n",
      " 8   payment_type       7049 non-null   object \n",
      " 9   monthly_charges    7049 non-null   float64\n",
      " 10  total_charges      7038 non-null   float64\n",
      " 11  churn              7049 non-null   object \n",
      " 12  tenure             7049 non-null   float64\n",
      " 13  family_status      7049 non-null   object \n",
      "dtypes: float64(7), object(7)\n",
      "memory usage: 771.1+ KB\n"
     ]
    }
   ],
   "source": [
    "## Step 2 getting to know the data\n",
    "\n",
    "cust_details.info()"
   ]
  },
  {
   "cell_type": "code",
   "execution_count": 5,
   "id": "fd4ae036",
   "metadata": {},
   "outputs": [
    {
     "data": {
      "text/plain": [
       "No     0.734714\n",
       "Yes    0.265286\n",
       "Name: churn, dtype: float64"
      ]
     },
     "execution_count": 5,
     "metadata": {},
     "output_type": "execute_result"
    }
   ],
   "source": [
    "cust_details.churn.value_counts() / cust_details.shape[0]\n",
    "\n",
    "# Roughly 26.5% of all customers in the dataset churned"
   ]
  },
  {
   "cell_type": "code",
   "execution_count": 200,
   "id": "792c977e",
   "metadata": {},
   "outputs": [
    {
     "data": {
      "text/plain": [
       "1870"
      ]
     },
     "execution_count": 200,
     "metadata": {},
     "output_type": "execute_result"
    }
   ],
   "source": [
    "all_chur = cust_details[cust_details.churn == 'Yes'].shape[0]\n",
    "all_chur\n",
    "#Total customers churned"
   ]
  },
  {
   "cell_type": "code",
   "execution_count": 216,
   "id": "0d0a6048",
   "metadata": {},
   "outputs": [
    {
     "data": {
      "text/plain": [
       "139161.35"
      ]
     },
     "execution_count": 216,
     "metadata": {},
     "output_type": "execute_result"
    }
   ],
   "source": [
    "cust_details[cust_details.churn == 'Yes'].monthly_charges.sum()\n",
    "\n",
    "# These customers represent a loss of $139k of revenue per month based on their monthly charges.\n",
    "# This equates to roughly $1.67 million annually. "
   ]
  },
  {
   "cell_type": "code",
   "execution_count": 7,
   "id": "686d49ce",
   "metadata": {},
   "outputs": [
    {
     "data": {
      "text/plain": [
       "Electronic check             1071\n",
       "Mailed check                  308\n",
       "Bank transfer (automatic)     259\n",
       "Credit card (automatic)       232\n",
       "Name: payment_type, dtype: int64"
      ]
     },
     "execution_count": 7,
     "metadata": {},
     "output_type": "execute_result"
    }
   ],
   "source": [
    "# Let's check the contract, phone, internet, and payment types to see if there's any obvious connection.\n",
    "\n",
    "# Payment types with churn\n",
    "cust_details[cust_details.churn == 'Yes'].payment_type.value_counts()\n"
   ]
  },
  {
   "cell_type": "code",
   "execution_count": 45,
   "id": "81fdee0d",
   "metadata": {},
   "outputs": [
    {
     "data": {
      "text/plain": [
       "0.5727272727272728"
      ]
     },
     "execution_count": 45,
     "metadata": {},
     "output_type": "execute_result"
    }
   ],
   "source": [
    "cust_details[(cust_details.churn == 'Yes') & (cust_details.payment_type == \"Electronic check\")].shape[0] / cust_details[cust_details.churn == 'Yes'].payment_type.shape[0]"
   ]
  },
  {
   "cell_type": "markdown",
   "id": "7432864e",
   "metadata": {},
   "source": [
    "Electronic check payments account for 57% of all churned customers"
   ]
  },
  {
   "cell_type": "code",
   "execution_count": 8,
   "id": "eaee1827",
   "metadata": {},
   "outputs": [
    {
     "data": {
      "text/plain": [
       "Mailed check                 1304\n",
       "Electronic check             1294\n",
       "Credit card (automatic)      1292\n",
       "Bank transfer (automatic)    1289\n",
       "Name: payment_type, dtype: int64"
      ]
     },
     "execution_count": 8,
     "metadata": {},
     "output_type": "execute_result"
    }
   ],
   "source": [
    "# Payment types without churn\n",
    "cust_details[cust_details.churn == 'No'].payment_type.value_counts()"
   ]
  },
  {
   "cell_type": "markdown",
   "id": "6a1548a3",
   "metadata": {},
   "source": [
    "Non churning customers used varying payment types at a roughly equal rate. Thus there is a noticable difference for churning customers who use electronic checks"
   ]
  },
  {
   "cell_type": "code",
   "execution_count": 9,
   "id": "a73b6375",
   "metadata": {},
   "outputs": [
    {
     "data": {
      "text/plain": [
       "<AxesSubplot:xlabel='Count', ylabel='payment_type'>"
      ]
     },
     "execution_count": 9,
     "metadata": {},
     "output_type": "execute_result"
    },
    {
     "data": {
      "image/png": "[encoded data removed]",
      "text/plain": [
       "<Figure size 432x288 with 1 Axes>"
      ]
     },
     "metadata": {
      "needs_background": "light"
     },
     "output_type": "display_data"
    }
   ],
   "source": [
    "# It seems as though people who paid with an electronic check accounted for the vast majority of people who churned\n",
    "# and people who didn't churn paid were evenly distributed for payment type with fewer people churning who used electronic check.\n",
    "sns.histplot(data=cust_details, y = 'payment_type', hue = 'churn', palette= 'mako')"
   ]
  },
  {
   "cell_type": "code",
   "execution_count": 10,
   "id": "3dbe90e9",
   "metadata": {},
   "outputs": [
    {
     "data": {
      "text/plain": [
       "0.0    1656\n",
       "1.0     166\n",
       "2.0      48\n",
       "Name: contract_type, dtype: int64"
      ]
     },
     "execution_count": 10,
     "metadata": {},
     "output_type": "execute_result"
    }
   ],
   "source": [
    "# Contract types with churn\n",
    "\n",
    "cust_details[cust_details.churn == 'Yes'].contract_type.value_counts()"
   ]
  },
  {
   "cell_type": "code",
   "execution_count": 11,
   "id": "9902760f",
   "metadata": {},
   "outputs": [
    {
     "data": {
      "text/plain": [
       "0.0    2220\n",
       "2.0    1649\n",
       "1.0    1310\n",
       "Name: contract_type, dtype: int64"
      ]
     },
     "execution_count": 11,
     "metadata": {},
     "output_type": "execute_result"
    }
   ],
   "source": [
    "# Contract types with churn\n",
    "\n",
    "cust_details[cust_details.churn == 'No'].contract_type.value_counts()"
   ]
  },
  {
   "cell_type": "code",
   "execution_count": 12,
   "id": "40de69b9",
   "metadata": {},
   "outputs": [
    {
     "data": {
      "text/plain": [
       "<AxesSubplot:xlabel='contract_type', ylabel='Count'>"
      ]
     },
     "execution_count": 12,
     "metadata": {},
     "output_type": "execute_result"
    },
    {
     "data": {
      "image/png": "[encoded data removed]",
      "text/plain": [
       "<Figure size 432x288 with 1 Axes>"
      ]
     },
     "metadata": {
      "needs_background": "light"
     },
     "output_type": "display_data"
    }
   ],
   "source": [
    "# Month to month customers were by FAR the customers who churned.\n",
    "sns.histplot(data=cust_details, x = 'contract_type', hue = 'churn', palette= 'mako')"
   ]
  },
  {
   "cell_type": "code",
   "execution_count": 13,
   "id": "1bb9cd15",
   "metadata": {},
   "outputs": [
    {
     "data": {
      "text/plain": [
       "2.0    1297\n",
       "1.0     460\n",
       "0.0     113\n",
       "Name: internet_service, dtype: int64"
      ]
     },
     "execution_count": 13,
     "metadata": {},
     "output_type": "execute_result"
    }
   ],
   "source": [
    "# Internet service types with churn\n",
    "\n",
    "cust_details[cust_details.churn == 'Yes'].internet_service.value_counts()"
   ]
  },
  {
   "cell_type": "code",
   "execution_count": 14,
   "id": "f37d8c9a",
   "metadata": {},
   "outputs": [
    {
     "data": {
      "text/plain": [
       "1.0    1962\n",
       "2.0    1801\n",
       "0.0    1416\n",
       "Name: internet_service, dtype: int64"
      ]
     },
     "execution_count": 14,
     "metadata": {},
     "output_type": "execute_result"
    }
   ],
   "source": [
    "# Internet service types with churn\n",
    "\n",
    "cust_details[cust_details.churn == 'No'].internet_service.value_counts()"
   ]
  },
  {
   "cell_type": "code",
   "execution_count": 54,
   "id": "01154efe",
   "metadata": {},
   "outputs": [
    {
     "data": {
      "text/plain": [
       "0.6935828877005348"
      ]
     },
     "execution_count": 54,
     "metadata": {},
     "output_type": "execute_result"
    }
   ],
   "source": [
    "cust_details[cust_details.churn == 'Yes'].internet_service.value_counts()[2] / cust_details[cust_details.churn == 'Yes'].internet_service.value_counts().sum()"
   ]
  },
  {
   "cell_type": "code",
   "execution_count": 15,
   "id": "22b1348f",
   "metadata": {},
   "outputs": [
    {
     "data": {
      "text/plain": [
       "<AxesSubplot:xlabel='internet_service', ylabel='Count'>"
      ]
     },
     "execution_count": 15,
     "metadata": {},
     "output_type": "execute_result"
    },
    {
     "data": {
      "image/png": "[encoded data removed]",
      "text/plain": [
       "<Figure size 432x288 with 1 Axes>"
      ]
     },
     "metadata": {
      "needs_background": "light"
     },
     "output_type": "display_data"
    }
   ],
   "source": [
    "## Far more people with Fiber optic internet service churned than others. 2 = Fiber Optic\n",
    "sns.histplot(data=cust_details, x = 'internet_service', hue = 'churn', palette= 'mako')"
   ]
  },
  {
   "cell_type": "code",
   "execution_count": 16,
   "id": "ad78bd6d",
   "metadata": {},
   "outputs": [
    {
     "data": {
      "text/plain": [
       "2.0    850\n",
       "1.0    849\n",
       "0.0    171\n",
       "Name: phone_service, dtype: int64"
      ]
     },
     "execution_count": 16,
     "metadata": {},
     "output_type": "execute_result"
    }
   ],
   "source": [
    "# Phone service types with churn\n",
    "\n",
    "cust_details[cust_details.churn == 'Yes'].phone_service.value_counts()"
   ]
  },
  {
   "cell_type": "code",
   "execution_count": 17,
   "id": "7f7b5e65",
   "metadata": {},
   "outputs": [
    {
     "data": {
      "text/plain": [
       "1.0    2546\n",
       "2.0    2121\n",
       "0.0     512\n",
       "Name: phone_service, dtype: int64"
      ]
     },
     "execution_count": 17,
     "metadata": {},
     "output_type": "execute_result"
    }
   ],
   "source": [
    "# Phone service types with churn\n",
    "\n",
    "cust_details[cust_details.churn == 'No'].phone_service.value_counts()"
   ]
  },
  {
   "cell_type": "code",
   "execution_count": 18,
   "id": "a16cd6bc",
   "metadata": {},
   "outputs": [
    {
     "data": {
      "text/plain": [
       "<AxesSubplot:xlabel='phone_service', ylabel='Count'>"
      ]
     },
     "execution_count": 18,
     "metadata": {},
     "output_type": "execute_result"
    },
    {
     "data": {
      "image/png": "[encoded data removed]",
      "text/plain": [
       "<Figure size 432x288 with 1 Axes>"
      ]
     },
     "metadata": {
      "needs_background": "light"
     },
     "output_type": "display_data"
    }
   ],
   "source": [
    "# No major discrepancy in phone service types related to churn\n",
    "sns.histplot(data=cust_details, x = 'phone_service', hue = 'churn', palette= 'mako')"
   ]
  },
  {
   "cell_type": "code",
   "execution_count": 19,
   "id": "4fbc2a6c",
   "metadata": {},
   "outputs": [
    {
     "data": {
      "text/html": [
       "<div>\n",
       "<style scoped>\n",
       "    .dataframe tbody tr th:only-of-type {\n",
       "        vertical-align: middle;\n",
       "    }\n",
       "\n",
       "    .dataframe tbody tr th {\n",
       "        vertical-align: top;\n",
       "    }\n",
       "\n",
       "    .dataframe thead th {\n",
       "        text-align: right;\n",
       "    }\n",
       "</style>\n",
       "<table border=\"1\" class=\"dataframe\">\n",
       "  <thead>\n",
       "    <tr style=\"text-align: right;\">\n",
       "      <th></th>\n",
       "      <th>is_senior_citizen</th>\n",
       "      <th>internet_service</th>\n",
       "      <th>contract_type</th>\n",
       "      <th>monthly_charges</th>\n",
       "      <th>total_charges</th>\n",
       "      <th>tenure</th>\n",
       "    </tr>\n",
       "    <tr>\n",
       "      <th>phone_service</th>\n",
       "      <th></th>\n",
       "      <th></th>\n",
       "      <th></th>\n",
       "      <th></th>\n",
       "      <th></th>\n",
       "      <th></th>\n",
       "    </tr>\n",
       "  </thead>\n",
       "  <tbody>\n",
       "    <tr>\n",
       "      <th>0.0</th>\n",
       "      <td>0.152269</td>\n",
       "      <td>1.000000</td>\n",
       "      <td>0.683748</td>\n",
       "      <td>42.011713</td>\n",
       "      <td>1498.275257</td>\n",
       "      <td>31.687921</td>\n",
       "    </tr>\n",
       "    <tr>\n",
       "      <th>1.0</th>\n",
       "      <td>0.109867</td>\n",
       "      <td>0.992047</td>\n",
       "      <td>0.601178</td>\n",
       "      <td>54.190236</td>\n",
       "      <td>1351.341755</td>\n",
       "      <td>24.162670</td>\n",
       "    </tr>\n",
       "    <tr>\n",
       "      <th>2.0</th>\n",
       "      <td>0.223830</td>\n",
       "      <td>1.537193</td>\n",
       "      <td>0.795019</td>\n",
       "      <td>82.036974</td>\n",
       "      <td>3527.700994</td>\n",
       "      <td>41.928832</td>\n",
       "    </tr>\n",
       "  </tbody>\n",
       "</table>\n",
       "</div>"
      ],
      "text/plain": [
       "               is_senior_citizen  internet_service  contract_type  \\\n",
       "phone_service                                                       \n",
       "0.0                     0.152269          1.000000       0.683748   \n",
       "1.0                     0.109867          0.992047       0.601178   \n",
       "2.0                     0.223830          1.537193       0.795019   \n",
       "\n",
       "               monthly_charges  total_charges     tenure  \n",
       "phone_service                                             \n",
       "0.0                  42.011713    1498.275257  31.687921  \n",
       "1.0                  54.190236    1351.341755  24.162670  \n",
       "2.0                  82.036974    3527.700994  41.928832  "
      ]
     },
     "execution_count": 19,
     "metadata": {},
     "output_type": "execute_result"
    }
   ],
   "source": [
    "cust_details.groupby('phone_service').mean()"
   ]
  },
  {
   "cell_type": "code",
   "execution_count": 20,
   "id": "f1df42d2",
   "metadata": {},
   "outputs": [
    {
     "data": {
      "text/plain": [
       "<seaborn.axisgrid.FacetGrid at 0x15f5dc3ec10>"
      ]
     },
     "execution_count": 20,
     "metadata": {},
     "output_type": "execute_result"
    },
    {
     "data": {
      "text/plain": [
       "<Figure size 576x432 with 0 Axes>"
      ]
     },
     "metadata": {},
     "output_type": "display_data"
    },
    {
     "data": {
      "image/png": "[encoded data removed]",
      "text/plain": [
       "<Figure size 412x360 with 1 Axes>"
      ]
     },
     "metadata": {
      "needs_background": "light"
     },
     "output_type": "display_data"
    }
   ],
   "source": [
    "#Checking churn as a function of whether or not they have long tenure with the company\n",
    "plt.figure(figsize= (8,6))\n",
    "\n",
    "sns.relplot(data=cust_details, x = 'tenure', y = 'monthly_charges', hue = 'churn')\n"
   ]
  },
  {
   "cell_type": "code",
   "execution_count": 21,
   "id": "c4c9d6f1",
   "metadata": {},
   "outputs": [
    {
     "data": {
      "text/plain": [
       "Single no kids     0.600535\n",
       "Married no kids    0.224599\n",
       "Married w/kids     0.133690\n",
       "Single w/kids      0.041176\n",
       "Name: family_status, dtype: float64"
      ]
     },
     "execution_count": 21,
     "metadata": {},
     "output_type": "execute_result"
    }
   ],
   "source": [
    "#families who stayed vs singles who churned\n",
    "cust_details[cust_details.churn == \"Yes\"].family_status.value_counts() / cust_details[cust_details.churn == \"Yes\"].family_status.count()\n"
   ]
  },
  {
   "cell_type": "code",
   "execution_count": 22,
   "id": "379443e2",
   "metadata": {},
   "outputs": [
    {
     "data": {
      "text/plain": [
       "Single no kids     0.416683\n",
       "Married w/kids     0.290404\n",
       "Married no kids    0.238077\n",
       "Single w/kids      0.054837\n",
       "Name: family_status, dtype: float64"
      ]
     },
     "execution_count": 22,
     "metadata": {},
     "output_type": "execute_result"
    }
   ],
   "source": [
    "cust_details[cust_details.churn == \"No\"].family_status.value_counts() / cust_details[cust_details.churn == \"No\"].family_status.count()"
   ]
  },
  {
   "cell_type": "code",
   "execution_count": 23,
   "id": "bebbb768",
   "metadata": {},
   "outputs": [],
   "source": [
    "# The largest group regardless of churn or not is single with no kids, but the single with no kids group represents a \n",
    "# much larger proportion of the churn than does the single no kids group who didn't churn."
   ]
  },
  {
   "cell_type": "code",
   "execution_count": 24,
   "id": "06ba9372",
   "metadata": {},
   "outputs": [
    {
     "data": {
      "text/plain": [
       "<AxesSubplot:xlabel='churn', ylabel='Count'>"
      ]
     },
     "execution_count": 24,
     "metadata": {},
     "output_type": "execute_result"
    },
    {
     "data": {
      "image/png": "[encoded data removed]",
      "text/plain": [
       "<Figure size 432x288 with 1 Axes>"
      ]
     },
     "metadata": {
      "needs_background": "light"
     },
     "output_type": "display_data"
    }
   ],
   "source": [
    "sns.histplot(data = cust_details, x = 'churn', hue = 'family_status')"
   ]
  },
  {
   "cell_type": "code",
   "execution_count": 25,
   "id": "40873f6b",
   "metadata": {},
   "outputs": [
    {
     "data": {
      "text/plain": [
       "(1.0    1768\n",
       " 2.0    1186\n",
       " 0.0     327\n",
       " Name: phone_service, dtype: int64,\n",
       "    phone_service_id phone_service_description\n",
       " 0               0.0          No Phone Service\n",
       " 1               1.0                  One Line\n",
       " 2               2.0         Two or More Lines)"
      ]
     },
     "execution_count": 25,
     "metadata": {},
     "output_type": "execute_result"
    }
   ],
   "source": [
    "sing_no_kids = cust_details[cust_details.family_status == \"Single no kids\"]\n",
    "sing_no_kids.phone_service.value_counts(), phone_service.head()"
   ]
  },
  {
   "cell_type": "code",
   "execution_count": 26,
   "id": "3223888f",
   "metadata": {},
   "outputs": [
    {
     "data": {
      "text/plain": [
       "(2.0    1507\n",
       " 1.0    1102\n",
       " 0.0     672\n",
       " Name: internet_service, dtype: int64,\n",
       "    internet_service_id internet_service_description\n",
       " 0                  0.0          No Internet Service\n",
       " 1                  1.0                          DSL\n",
       " 2                  2.0                  Fiber Optic)"
      ]
     },
     "execution_count": 26,
     "metadata": {},
     "output_type": "execute_result"
    }
   ],
   "source": [
    "sing_no_kids.internet_service.value_counts(), internet_service.head()"
   ]
  },
  {
   "cell_type": "code",
   "execution_count": 27,
   "id": "e02eecce",
   "metadata": {},
   "outputs": [],
   "source": [
    "# The vast majority of Single no kids have at least one phone line, and have some sort of internet service.  \n",
    "# Perhaps bundeling these together for a deal would keep them."
   ]
  },
  {
   "cell_type": "code",
   "execution_count": 28,
   "id": "7d7600a7",
   "metadata": {},
   "outputs": [
    {
     "data": {
      "text/plain": [
       "1.0    560\n",
       "2.0    460\n",
       "0.0    103\n",
       "Name: phone_service, dtype: int64"
      ]
     },
     "execution_count": 28,
     "metadata": {},
     "output_type": "execute_result"
    }
   ],
   "source": [
    "sing_no_kids[sing_no_kids.churn == 'Yes'].phone_service.value_counts()\n",
    "# Roughly 91% of those who churned had a phone service"
   ]
  },
  {
   "cell_type": "code",
   "execution_count": 29,
   "id": "753865bc",
   "metadata": {},
   "outputs": [
    {
     "data": {
      "text/plain": [
       "1.0    1208\n",
       "2.0     726\n",
       "0.0     224\n",
       "Name: phone_service, dtype: int64"
      ]
     },
     "execution_count": 29,
     "metadata": {},
     "output_type": "execute_result"
    }
   ],
   "source": [
    "sing_no_kids[sing_no_kids.churn == 'No'].phone_service.value_counts()\n",
    "# Roughly 90% who stayed had a phone service"
   ]
  },
  {
   "cell_type": "code",
   "execution_count": 30,
   "id": "ded153e7",
   "metadata": {},
   "outputs": [
    {
     "data": {
      "text/plain": [
       "2.0    753\n",
       "1.0    294\n",
       "0.0     76\n",
       "Name: internet_service, dtype: int64"
      ]
     },
     "execution_count": 30,
     "metadata": {},
     "output_type": "execute_result"
    }
   ],
   "source": [
    "sing_no_kids[sing_no_kids.churn == 'Yes'].internet_service.value_counts()\n",
    "# Roughly 93% of those who churned had an internet service"
   ]
  },
  {
   "cell_type": "code",
   "execution_count": 31,
   "id": "e6518005",
   "metadata": {},
   "outputs": [
    {
     "data": {
      "text/plain": [
       "1.0    808\n",
       "2.0    754\n",
       "0.0    596\n",
       "Name: internet_service, dtype: int64"
      ]
     },
     "execution_count": 31,
     "metadata": {},
     "output_type": "execute_result"
    }
   ],
   "source": [
    "sing_no_kids[sing_no_kids.churn == 'No'].internet_service.value_counts()\n",
    "# Roughly 72% of those who stayed had an internet service"
   ]
  },
  {
   "cell_type": "code",
   "execution_count": 32,
   "id": "84c10157",
   "metadata": {},
   "outputs": [
    {
     "data": {
      "text/plain": [
       "968467.7999999999"
      ]
     },
     "execution_count": 32,
     "metadata": {},
     "output_type": "execute_result"
    }
   ],
   "source": [
    "sing_no_kids[sing_no_kids.churn == 'Yes'].monthly_charges.sum() * 12\n",
    "# $970 thousand per year lost\n",
    "# $970 thousand per year lost"
   ]
  },
  {
   "cell_type": "markdown",
   "id": "71289ee5",
   "metadata": {},
   "source": [
    "## Need for service price estimation\n",
    "Since there are no numbers given for price of phone lines or internet services, we need to do some estimation using averages to find out costs of specific services before we can talk about discounts."
   ]
  },
  {
   "cell_type": "code",
   "execution_count": 75,
   "id": "1ea27631",
   "metadata": {},
   "outputs": [
    {
     "data": {
      "text/plain": [
       "70.427089989491"
      ]
     },
     "execution_count": 75,
     "metadata": {},
     "output_type": "execute_result"
    }
   ],
   "source": [
    "# The average bill of someone with 1 or 2 phones line and no internet\n",
    "phones_no_internet =cust_details[(cust_details.internet_service == 0) & ((cust_details.phone_service == 1 ) | (cust_details.phone_service == 2 ))].monthly_charges.mean()\n",
    "phones_no_internet\n",
    "\n",
    "# The average bill of someone with 1 or 2 phones line and fiber optic internet\n",
    "fiber_phones = cust_details[(cust_details.internet_service == 2) & ((cust_details.phone_service == 1 ) | (cust_details.phone_service == 2 ))].monthly_charges.mean()\n",
    "fiber_phones\n",
    "\n",
    "# The rough avg of cost for fiber optic internet is $70.4 per month\n",
    "\n",
    "fiber_cost = fiber_phones - phones_no_internet\n",
    "fiber_cost"
   ]
  },
  {
   "cell_type": "code",
   "execution_count": 77,
   "id": "485d3a4b",
   "metadata": {},
   "outputs": [
    {
     "data": {
      "text/plain": [
       "43.32901387813375"
      ]
     },
     "execution_count": 77,
     "metadata": {},
     "output_type": "execute_result"
    }
   ],
   "source": [
    "# The average bill of someone with 1 or 2 phones line and dsl internet\n",
    "dsl_phones = cust_details[(cust_details.internet_service == 1) & ((cust_details.phone_service == 1 ) | (cust_details.phone_service == 2 ))].monthly_charges.mean()\n",
    "dsl_phones\n",
    "\n",
    "# The rough avg of cost for fiber optic internet is roughly $43.3 per month\n",
    "\n",
    "dsl_cost = dsl_phones - phones_no_internet\n",
    "dsl_cost"
   ]
  },
  {
   "cell_type": "code",
   "execution_count": 113,
   "id": "f146981e",
   "metadata": {},
   "outputs": [
    {
     "data": {
      "text/plain": [
       "968467.7999999999"
      ]
     },
     "execution_count": 113,
     "metadata": {},
     "output_type": "execute_result"
    }
   ],
   "source": [
    "#total churn annual cost of losing these customers based on monthly charge is $968 thousand\n",
    "sing_no_kids[(sing_no_kids.churn == 'Yes')].monthly_charges.sum() * 12\n"
   ]
  },
  {
   "cell_type": "code",
   "execution_count": 33,
   "id": "1ce328f4",
   "metadata": {},
   "outputs": [
    {
     "data": {
      "text/plain": [
       "905248.8"
      ]
     },
     "execution_count": 33,
     "metadata": {},
     "output_type": "execute_result"
    }
   ],
   "source": [
    "sing_no_kids[(sing_no_kids.churn == 'Yes') & (sing_no_kids.phone_service != 0) & (sing_no_kids.internet_service != 0)].monthly_charges.sum() * 12\n",
    "# $905 thousand lost per year to single no kids who use both internet and phone services\n",
    "\n",
    "# Thus of sing no kids who churned 93.5% of revenue comes from those who have both internet and phone."
   ]
  },
  {
   "cell_type": "code",
   "execution_count": 202,
   "id": "19244347",
   "metadata": {},
   "outputs": [
    {
     "data": {
      "text/plain": [
       "305230.5791998758"
      ]
     },
     "execution_count": 202,
     "metadata": {},
     "output_type": "execute_result"
    }
   ],
   "source": [
    "# If we gave them a 20% bundle discount for fiber internet service and 15% bundle discount for dsl internet service to this \n",
    "# single group no kids who had both phones and internet and this convinced 40% of them to stay this would increase revenue by \n",
    "# $305k for this group alone!\n",
    "\n",
    "discount_group = sing_no_kids[(sing_no_kids.churn == 'Yes') & (sing_no_kids.phone_service != 0) & (sing_no_kids.internet_service != 0)]\n",
    "discount_group\n",
    "retained_group_revenue = discount_group.monthly_charges.sum() * 12 *.4\n",
    "fiber_discount_cost = (len(discount_group[discount_group.internet_service == 2]) * fiber_cost*.2 *.4)\n",
    "dsl_discount_cost = (len(discount_group[discount_group.internet_service == 1]) * dsl_cost*.15 *.4)\n",
    "\n",
    "yearly_discount_cost = (fiber_discount_cost + dsl_discount_cost)*12\n",
    "retained_group_revenue - yearly_discount_cost"
   ]
  },
  {
   "cell_type": "code",
   "execution_count": 132,
   "id": "ce4b4456",
   "metadata": {},
   "outputs": [
    {
     "data": {
      "text/plain": [
       "1565382.0"
      ]
     },
     "execution_count": 132,
     "metadata": {},
     "output_type": "execute_result"
    }
   ],
   "source": [
    "# If we see what this does to the entire churn group we find: Churned customers with both phone and internet account for \n",
    "# $1.56 million in lost annual revenue\n",
    "\n",
    "all_churn_phone_and_internet = cust_details[(cust_details.churn == 'Yes') & (cust_details.phone_service != 0) & (cust_details.internet_service != 0)]\n",
    "all_churn_phone_and_internet.monthly_charges.sum() * 12\n",
    "\n"
   ]
  },
  {
   "cell_type": "code",
   "execution_count": 206,
   "id": "9af27ce5",
   "metadata": {},
   "outputs": [
    {
     "data": {
      "text/plain": [
       "529446.7205045229"
      ]
     },
     "execution_count": 206,
     "metadata": {},
     "output_type": "execute_result"
    }
   ],
   "source": [
    "# If we applied this to the entire chun group we find that if retaining 40% of customers who had both phone and internet services\n",
    "# we would increase our revenue by $529k\n",
    "\n",
    "retained_churn_revenue = all_churn_phone_and_internet.monthly_charges.sum() * 12 *.4\n",
    "retained_churn_revenue\n",
    "fiber_allchurn_discount_cost = (len(all_churn_phone_and_internet[all_churn_phone_and_internet.internet_service == 2]) * fiber_cost*.2 *.4)\n",
    "dsl_allchurn_discount_cost = (len(all_churn_phone_and_internet[all_churn_phone_and_internet.internet_service == 1]) * dsl_cost*.15 *.4)\n",
    "yearly_all_churn_discount = (fiber_allchurn_discount_cost + dsl_allchurn_discount_cost) * 12\n",
    "yearly_all_churn_discount\n",
    "\n",
    "retained_revenue = retained_churn_revenue - yearly_all_churn_discount\n",
    "retained_revenue"
   ]
  },
  {
   "cell_type": "code",
   "execution_count": 204,
   "id": "45362699",
   "metadata": {},
   "outputs": [
    {
     "data": {
      "text/plain": [
       "634.4000000000001"
      ]
     },
     "execution_count": 204,
     "metadata": {},
     "output_type": "execute_result"
    }
   ],
   "source": [
    "all_churn_phone_and_internet.shape[0] * .4\n",
    "\n",
    "#634 customers retained if 50% stayed due to internet discounts."
   ]
  },
  {
   "cell_type": "code",
   "execution_count": 205,
   "id": "2a0a8281",
   "metadata": {},
   "outputs": [
    {
     "data": {
      "text/plain": [
       "455199.02206648135"
      ]
     },
     "execution_count": 205,
     "metadata": {},
     "output_type": "execute_result"
    }
   ],
   "source": [
    "# But we have to apply this discount to the larger non churn group as well and see how this affects any gains we may receive by \n",
    "# retaining churned customers through this discount.  We would lose about $455k in revenue by applying this discount to all non-\n",
    "# churn customers\n",
    "\n",
    "not_churned_phone_and_internet = cust_details[(cust_details.churn == 'No') & (cust_details.phone_service != 0) & (cust_details.internet_service != 0)]\n",
    "no_churn_annual_revenue = not_churned_phone_and_internet.monthly_charges.sum() * 12\n",
    "no_churn_fiber_discount = (len(not_churned_phone_and_internet[not_churned_phone_and_internet.internet_service == 2]) * fiber_cost*.2)\n",
    "no_churn_dsl_discount = (len(not_churned_phone_and_internet[not_churned_phone_and_internet.internet_service == 1]) * dsl_cost*.2)\n",
    "yearly_no_churn_discount = (no_churn_fiber_discount + no_churn_dsl_discount) * 12\n",
    "yearly_no_churn_discount"
   ]
  },
  {
   "cell_type": "code",
   "execution_count": 207,
   "id": "8e72e306",
   "metadata": {},
   "outputs": [
    {
     "data": {
      "text/plain": [
       "74247.69843804155"
      ]
     },
     "execution_count": 207,
     "metadata": {},
     "output_type": "execute_result"
    }
   ],
   "source": [
    "retained_revenue - yearly_no_churn_discount"
   ]
  },
  {
   "cell_type": "markdown",
   "id": "724a318b",
   "metadata": {},
   "source": [
    "Overall we would increase revenue by $74k through the bundle discount even if this was applied to all customers.  However, we could choose to only offer the discount to customers who churned through follow up after leaving the company.  This would introduce further costs however."
   ]
  },
  {
   "cell_type": "markdown",
   "id": "333249b4",
   "metadata": {},
   "source": [
    "## Further data exploration"
   ]
  },
  {
   "cell_type": "code",
   "execution_count": 37,
   "id": "02326283",
   "metadata": {},
   "outputs": [
    {
     "data": {
      "text/plain": [
       "Electronic check             657\n",
       "Mailed check                 211\n",
       "Credit card (automatic)      133\n",
       "Bank transfer (automatic)    122\n",
       "Name: payment_type, dtype: int64"
      ]
     },
     "execution_count": 37,
     "metadata": {},
     "output_type": "execute_result"
    }
   ],
   "source": [
    "sing_no_kids[(sing_no_kids.churn == 'Yes')].payment_type.value_counts()\n"
   ]
  },
  {
   "cell_type": "code",
   "execution_count": 38,
   "id": "d755f908",
   "metadata": {},
   "outputs": [
    {
     "data": {
      "text/plain": [
       "Mailed check                 632\n",
       "Electronic check             618\n",
       "Bank transfer (automatic)    457\n",
       "Credit card (automatic)      451\n",
       "Name: payment_type, dtype: int64"
      ]
     },
     "execution_count": 38,
     "metadata": {},
     "output_type": "execute_result"
    }
   ],
   "source": [
    "sing_no_kids[(sing_no_kids.churn == 'No')].payment_type.value_counts()"
   ]
  },
  {
   "cell_type": "code",
   "execution_count": 39,
   "id": "8f06ab6c",
   "metadata": {},
   "outputs": [
    {
     "data": {
      "text/plain": [
       "Electronic check             2365\n",
       "Mailed check                 1612\n",
       "Bank transfer (automatic)    1548\n",
       "Credit card (automatic)      1524\n",
       "Name: payment_type, dtype: int64"
      ]
     },
     "execution_count": 39,
     "metadata": {},
     "output_type": "execute_result"
    }
   ],
   "source": [
    "cust_details.payment_type.value_counts()"
   ]
  },
  {
   "cell_type": "code",
   "execution_count": 179,
   "id": "a5702d84",
   "metadata": {},
   "outputs": [
    {
     "data": {
      "text/plain": [
       "<matplotlib.lines.Line2D at 0x15f653a4c40>"
      ]
     },
     "execution_count": 179,
     "metadata": {},
     "output_type": "execute_result"
    },
    {
     "data": {
      "image/png": "[encoded data removed]",
      "text/plain": [
       "<Figure size 720x576 with 1 Axes>"
      ]
     },
     "metadata": {
      "needs_background": "light"
     },
     "output_type": "display_data"
    }
   ],
   "source": [
    "plt.figure(figsize = (10,8))\n",
    "sns.histplot(data = cust_details[cust_details.churn == \"Yes\"], x= cust_details.tenure, binwidth=1)\n",
    "plt.axhline(163, c = 'k')\n",
    "\n",
    "# A dramatic decrease in customer churn after month 1 and 4; introduce a strategy of Buy 3 months get one Free?"
   ]
  },
  {
   "cell_type": "code",
   "execution_count": 209,
   "id": "33257f70",
   "metadata": {},
   "outputs": [
    {
     "data": {
      "text/plain": [
       "172402.56000000003"
      ]
     },
     "execution_count": 209,
     "metadata": {},
     "output_type": "execute_result"
    }
   ],
   "source": [
    "four_month_churn = cust_details[(cust_details.churn == 'Yes') & (cust_details.tenure < 4)]\n",
    "one_month_churn.monthly_charges.sum() * 11 * .4\n",
    "#If we converted 40% of all churns who left before 4 months to a year that would amount to roughly $172k in annual revenue"
   ]
  },
  {
   "cell_type": "code",
   "execution_count": 210,
   "id": "06dd6338",
   "metadata": {},
   "outputs": [
    {
     "data": {
      "text/plain": [
       "254.8"
      ]
     },
     "execution_count": 210,
     "metadata": {},
     "output_type": "execute_result"
    }
   ],
   "source": [
    "four_month_churn.shape[0] *.4\n",
    "\n",
    "#318 customers retained if 50% stayed due to Buy 3 Get 1 Free bundle."
   ]
  },
  {
   "cell_type": "markdown",
   "id": "5bd34a85",
   "metadata": {},
   "source": [
    "## Initial conclusions:\n",
    "\n",
    "1. People paying with electronic check accounted for 57% of all churned customers\n",
    "2. People who had fiber optic internet accounted for 69% of all churned customers\n",
    "3. The single with no kids group accounted for 60% of all churned customers.\n",
    "4. The single largest group of churned customers came was the group who left after 1 month, with steady decline from month 2 until month 49.\n",
    "    - Months 2, 3, and 4 see large churn drop offs as well."
   ]
  },
  {
   "cell_type": "code",
   "execution_count": 214,
   "id": "faf1c67d",
   "metadata": {},
   "outputs": [
    {
     "data": {
      "text/plain": [
       "692.0"
      ]
     },
     "execution_count": 214,
     "metadata": {},
     "output_type": "execute_result"
    }
   ],
   "source": [
    "# If the bundles and discounts work as projected then 692 customers would be retained\n",
    "retained_all = cust_details[((cust_details.churn == 'Yes') & (cust_details.tenure < 4)) | ((cust_details.churn == 'Yes') & (cust_details.phone_service != 0) & (cust_details.internet_service != 0))]\n",
    "\n",
    "kept = retained_all.shape[0] * .4\n",
    "kept"
   ]
  },
  {
   "cell_type": "code",
   "execution_count": 215,
   "id": "f50f3094",
   "metadata": {},
   "outputs": [
    {
     "data": {
      "text/plain": [
       "0.3700534759358289"
      ]
     },
     "execution_count": 215,
     "metadata": {},
     "output_type": "execute_result"
    }
   ],
   "source": [
    "kept / all_chur\n",
    "\n",
    "# 37% of all customers who churned would be kept if bundles and discounts worked as intended\n"
   ]
  },
  {
   "cell_type": "code",
   "execution_count": 219,
   "id": "87bc463f",
   "metadata": {},
   "outputs": [
    {
     "data": {
      "text/plain": [
       "0.969"
      ]
     },
     "execution_count": 219,
     "metadata": {},
     "output_type": "execute_result"
    }
   ],
   "source": [
    "# of the $1.67 million lost due to churn annually this would reduce it to $970k which is 58% of current churn revenue loss.  \n",
    "\n",
    "1.67 - .172 -.529"
   ]
  },
  {
   "cell_type": "code",
   "execution_count": 220,
   "id": "16eeec46",
   "metadata": {},
   "outputs": [
    {
     "data": {
      "text/plain": [
       "0.8532934131736527"
      ]
     },
     "execution_count": 220,
     "metadata": {},
     "output_type": "execute_result"
    }
   ],
   "source": [
    "# This strategy would however cost the company $455k annually if the discounts were applied to non churning customers.\n",
    "# Which is still overall net positive and keeps churn lower, hopefully keeping customers on board for longer term."
   ]
  }
 ],
 "metadata": {
  "kernelspec": {
   "display_name": "Python 3 (ipykernel)",
   "language": "python",
   "name": "python3"
  },
  "language_info": {
   "codemirror_mode": {
    "name": "ipython",
    "version": 3
   },
   "file_extension": ".py",
   "mimetype": "text/x-python",
   "name": "python",
   "nbconvert_exporter": "python",
   "pygments_lexer": "ipython3",
   "version": "3.9.7"
  }
 },
 "nbformat": 4,
 "nbformat_minor": 5
}
